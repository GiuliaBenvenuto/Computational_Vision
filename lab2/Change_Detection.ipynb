{
 "cells": [
  {
   "cell_type": "markdown",
   "metadata": {},
   "source": [
    "##  SURNAME: Benvenuto NAME: Giulia\n",
    "#### **I cleared all the outputs because otherwise the size of the notebook was too big to be uploaded on aulaweb.**"
   ]
  },
  {
   "cell_type": "code",
   "execution_count": null,
   "metadata": {},
   "outputs": [],
   "source": [
    "import numpy as np\n",
    "from scipy import signal\n",
    "import matplotlib.pyplot as plt\n",
    "from mpl_toolkits.mplot3d import Axes3D\n",
    "from matplotlib import cm\n",
    "from skimage import draw as drw\n",
    "from skimage import data, color, exposure, img_as_float, img_as_ubyte, morphology, filters \n",
    "from skimage import io\n",
    "\n",
    "import skimage\n",
    "%matplotlib inline"
   ]
  },
  {
   "cell_type": "markdown",
   "metadata": {},
   "source": [
    "## 1- Background\n",
    "Let's visualize an empty scene captured by a fixed camera, and the same scene where objects are present"
   ]
  },
  {
   "cell_type": "code",
   "execution_count": null,
   "metadata": {},
   "outputs": [],
   "source": [
    "filename='images/es1/EmptyScene01.jpg'\n",
    "I1=io.imread(filename)\n",
    "filename='images/es1/EmptyScene02.jpg'\n",
    "I2=io.imread(filename)\n",
    "Ig1=img_as_float(color.rgb2gray(I1))\n",
    "Ig2=img_as_float(color.rgb2gray(I2))\n",
    "\n",
    "plt.subplot(121)\n",
    "plt.imshow(Ig1,cmap='gray')\n",
    "plt.title('Immagine 1')\n",
    "plt.subplot(122)\n",
    "plt.imshow(Ig2,cmap='gray')\n",
    "plt.title('Immagine 2');"
   ]
  },
  {
   "cell_type": "markdown",
   "metadata": {},
   "source": [
    "Let's try to see the difference in terms of Grayscale intensities of corresponding pixels across the two images"
   ]
  },
  {
   "cell_type": "code",
   "execution_count": null,
   "metadata": {},
   "outputs": [],
   "source": [
    "D = Ig1 - Ig2\n",
    " \n",
    "plt.imshow(D, cmap='gray')\n",
    "plt.title('Difference')\n",
    "plt.colorbar()\n",
    "plt.show()"
   ]
  },
  {
   "cell_type": "markdown",
   "metadata": {
    "tags": []
   },
   "source": [
    "**Observations:** \n",
    "\n",
    "This snippet of code computes the pixel-wise difference between the two input grayscale images Ig1 and Ig2, and stores the difference in a new variable D. The imshow() function is then used to display the resulting difference image D.\n",
    "\n",
    "The images Ig1 and Ig2 must have the same dimensions and that the resulting difference image will have negative, zero, and positive values, which will be mapped to different shades of gray according to the chosen colormap.\n",
    "\n",
    "The two images they look very similar, almost identical. Personally, if I look at the two images, I don't perceive any differences between them. In order to perceive the their difference it is necessary to calculate the difference between the two and we get that the vast majority of the pixels differ by at most ~10 to the same pixel on the other image.\n",
    "\n",
    "To compute the differenze between the two images means that we are computing the points where there are some changes. In this case the difference between Ig1 and Ig2 gives as a result a mostly white image. In areas where the color of D is light the two images are the same or very similar, in areas where the color of D is dark it means that there are real differences between the two images"
   ]
  },
  {
   "cell_type": "markdown",
   "metadata": {},
   "source": [
    "Indeed, the difference seems to be small for most pixels:"
   ]
  },
  {
   "cell_type": "code",
   "execution_count": null,
   "metadata": {},
   "outputs": [],
   "source": [
    "# multiplying by 255 to get a feeling of the differences entity\n",
    "# with respect to input values\n",
    "plt.hist(255*D.ravel(), 100);"
   ]
  },
  {
   "cell_type": "code",
   "execution_count": null,
   "metadata": {},
   "outputs": [],
   "source": [
    "print(\"Max value of D: \" + str(np.max(255 * D)))\n",
    "print(\"Min value of D: \" + str(np.min(255 * D)))"
   ]
  },
  {
   "cell_type": "markdown",
   "metadata": {},
   "source": [
    "### Analysis\n",
    "\n",
    "**Comment the histogram you just visualized**\n",
    "\n",
    "The histogram values along the x axis go from about -80 to about 20 which correspond to the minimum and the maximum value obtained by computing the difference of the two images. In this range we get that we only have values different from zero around the zero value. \n",
    "These differences around the zero are imputable to noise, as we can also see from the shape of the histogram, clearly resembling a gaussian, according to which the noise behaves."
   ]
  },
  {
   "cell_type": "markdown",
   "metadata": {},
   "source": [
    "## 2- Change detection\n",
    "\n",
    "You may try out different frames"
   ]
  },
  {
   "cell_type": "code",
   "execution_count": null,
   "metadata": {},
   "outputs": [],
   "source": [
    "threshold = 0.1 #let's pick a threshold\n",
    "filename = 'images/es1/video/frame0251.jpg'\n",
    "It = io.imread(filename)\n",
    "Itg = img_as_float(color.rgb2gray(It))\n",
    "\n",
    "# check slide \"Motion segmentation - CHANGE DETECTION\"\n",
    "fig, axs = plt.subplots(ncols=2, figsize=(15, 6))\n",
    "axs[0].imshow(It)\n",
    "\n",
    "Dabs = (abs(Ig1 - Itg) > threshold)\n",
    "axs[1].imshow(Dabs, cmap='gray')\n",
    "plt.show()"
   ]
  },
  {
   "cell_type": "markdown",
   "metadata": {},
   "source": [
    "Have a look at the histogram of the differences to pick a better threshold"
   ]
  },
  {
   "cell_type": "code",
   "execution_count": null,
   "metadata": {},
   "outputs": [],
   "source": [
    "## fill in the code and add comments if appropriate\n",
    "D = (abs(Ig1 - Itg))\n",
    " \n",
    "plt.imshow(D, cmap='gray')\n",
    "plt.title('Difference')\n",
    "plt.colorbar()\n",
    "plt.show()"
   ]
  },
  {
   "cell_type": "code",
   "execution_count": null,
   "metadata": {},
   "outputs": [],
   "source": [
    "plt.hist(255*D.ravel(), 100);"
   ]
  },
  {
   "cell_type": "markdown",
   "metadata": {},
   "source": [
    "**Observations:** \n",
    "\n",
    "We can see from the histogram that the cut between the noise and the relevant differences is around 25, which corresponds to a threshold of 0.1 in float. We can decide to increase the threshold to account for the \"tail\" of the gaussian. Doing this the man in the foreground will be a bit clearer, since it removed the lighter shadow under him.\n",
    "\n",
    "We can notice also thaht there is a change in the middle of the picture that doesn't correspond to anything in our image. This change is caused by a bag in the refernce image, which is not there anymore. So probably our reference image is not \"empty\" enough to be a reference."
   ]
  },
  {
   "cell_type": "markdown",
   "metadata": {},
   "source": [
    "**Example of good threshold**"
   ]
  },
  {
   "cell_type": "code",
   "execution_count": null,
   "metadata": {},
   "outputs": [],
   "source": [
    "threshold = 0.2 #let's pick a threshold\n",
    "filename = 'images/es1/video/frame0251.jpg'\n",
    "It = io.imread(filename)\n",
    "Itg = img_as_float(color.rgb2gray(It))\n",
    "\n",
    "# check slide \"Motion segmentation - CHANGE DETECTION\"\n",
    "Dabs = (abs(Ig1 - Itg) > threshold)\n",
    "plt.imshow(Dabs, cmap='gray')\n",
    "plt.show()"
   ]
  },
  {
   "cell_type": "markdown",
   "metadata": {},
   "source": [
    "**Example of bad threshold**\n",
    "\n",
    "The chosen threshold is too small so when the difference between the two images is calculated, elements that are actually equal will also be reported as differences."
   ]
  },
  {
   "cell_type": "code",
   "execution_count": null,
   "metadata": {},
   "outputs": [],
   "source": [
    "threshold = 0.03 #let's pick a threshold\n",
    "filename = 'images/es1/video/frame0251.jpg'\n",
    "It = io.imread(filename)\n",
    "Itg = img_as_float(color.rgb2gray(It))\n",
    "\n",
    "# check slide \"Motion segmentation - CHANGE DETECTION\"\n",
    "Dabs = (abs(Ig1 - Itg) > threshold)\n",
    "plt.imshow(Dabs, cmap='gray')\n",
    "plt.show()"
   ]
  },
  {
   "cell_type": "markdown",
   "metadata": {},
   "source": [
    "If you want <b> (meaning it is optional) </b>  you may improve the results with an appropriate post processing. Binary images may be cleaned by means of <a href=\"https://en.wikipedia.org/wiki/Mathematical_morphology\">Morphology operations</a>\n"
   ]
  },
  {
   "cell_type": "code",
   "execution_count": null,
   "metadata": {},
   "outputs": [],
   "source": [
    "from skimage import morphology as mp\n",
    "from skimage import data, util\n",
    "from skimage.measure import label\n",
    "\n",
    "mask = mp.disk(2) # the structuring element size controls the filling/deletion scale\n",
    "\n",
    "Dabs = mp.closing(Dabs, mask)\n",
    "Dabs = skimage.morphology.remove_small_objects(Dabs, 100)\n",
    "plt.imshow(Dabs, cmap='gray')\n",
    "plt.show()"
   ]
  }
 ],
 "metadata": {
  "kernelspec": {
   "display_name": "Python 3 (ipykernel)",
   "language": "python",
   "name": "python3"
  },
  "language_info": {
   "codemirror_mode": {
    "name": "ipython",
    "version": 3
   },
   "file_extension": ".py",
   "mimetype": "text/x-python",
   "name": "python",
   "nbconvert_exporter": "python",
   "pygments_lexer": "ipython3",
   "version": "3.8.8"
  }
 },
 "nbformat": 4,
 "nbformat_minor": 4
}
