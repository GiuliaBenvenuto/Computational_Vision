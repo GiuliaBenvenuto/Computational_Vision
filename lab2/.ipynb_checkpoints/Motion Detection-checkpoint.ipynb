{
 "cells": [
  {
   "cell_type": "markdown",
   "metadata": {},
   "source": [
    "## *LastName FirstName*"
   ]
  },
  {
   "cell_type": "code",
   "execution_count": null,
   "metadata": {},
   "outputs": [],
   "source": [
    "import numpy as np\n",
    "from scipy import signal\n",
    "import matplotlib.pyplot as plt\n",
    "from mpl_toolkits.mplot3d import Axes3D\n",
    "from matplotlib import cm\n",
    "from skimage import draw as drw\n",
    "from skimage import data, color, exposure, img_as_float, img_as_ubyte, morphology, filters\n",
    "\n",
    "import skimage\n",
    "%matplotlib inline"
   ]
  },
  {
   "cell_type": "markdown",
   "metadata": {},
   "source": [
    "## 1- Empty scene and scene occupied by active objects\n",
    "let's visualize an empty scene captured by a fixed camera, and the same scene where objects are present"
   ]
  },
  {
   "cell_type": "code",
   "execution_count": null,
   "metadata": {},
   "outputs": [],
   "source": [
    "filename='images/es1/EmptyScene01.jpg'\n",
    "I1=io.imread(filename)\n",
    "filename='images/es1/video/frame0251.jpg'\n",
    "I2=io.imread(filename)\n",
    "Ig1=img_as_float(color.rgb2gray(I1))\n",
    "Ig2=img_as_float(color.rgb2gray(I2))\n",
    "\n",
    "#visualize\n",
    "plt.subplot(121)\n",
    "plt.imshow(Ig1,cmap='gray')\n",
    "plt.title('Immagine 1')\n",
    "plt.subplot(122)\n",
    "plt.imshow(Ig2,cmap='gray')\n",
    "plt.title('Immagine 2');"
   ]
  },
  {
   "cell_type": "markdown",
   "metadata": {},
   "source": [
    "Let's try to see the difference in terms of Grayscale intensities of corresponding pixels across the two images"
   ]
  },
  {
   "cell_type": "code",
   "execution_count": null,
   "metadata": {},
   "outputs": [],
   "source": [
    "D = Ig1 - Ig2\n",
    "\n",
    "Dreal=D*255; \n",
    "plt.imshow(D,cmap='gray')\n",
    "plt.title('differenza')\n",
    "plt.colorbar()\n",
    "plt.show()"
   ]
  },
  {
   "cell_type": "markdown",
   "metadata": {},
   "source": [
    "Indeed, the difference seems to be small for most pixels of the images (induced by noise and illuminaiton slight variation) and is only prevalent where real motion is taking place, to verify:"
   ]
  },
  {
   "cell_type": "code",
   "execution_count": null,
   "metadata": {},
   "outputs": [],
   "source": [
    "plt.hist(Dreal.ravel(),100);"
   ]
  },
  {
   "cell_type": "markdown",
   "metadata": {},
   "source": [
    "## 2- Now let's formulate a procedure which detectes motion in a video given the \"background/empty\" frame"
   ]
  },
  {
   "cell_type": "code",
   "execution_count": null,
   "metadata": {},
   "outputs": [],
   "source": [
    "import pims\n",
    "v = pims.ImageSequence('images/es1/video/*.jpg')"
   ]
  },
  {
   "cell_type": "code",
   "execution_count": null,
   "metadata": {},
   "outputs": [],
   "source": [
    "#Reference Frame\n",
    "filename='images/es1/EmptyScene01.jpg'\n",
    "Iref=io.imread(filename)\n",
    "Igref=img_as_float(color.rgb2gray(Iref))"
   ]
  },
  {
   "cell_type": "markdown",
   "metadata": {},
   "source": [
    "Use a simple thresholding procedure to filter out moving parts in the sequence frames "
   ]
  },
  {
   "cell_type": "code",
   "execution_count": null,
   "metadata": {
    "scrolled": true
   },
   "outputs": [],
   "source": [
    "threshold=0.2 #adjust\n",
    "\n",
    "\n",
    "for frame in v[:]:\n",
    "    # Do something with frame, a numpy array.\n",
    "   \n",
    "      \n",
    " "
   ]
  },
  {
   "cell_type": "markdown",
   "metadata": {},
   "source": [
    "Results can be post-processed to connect regions and remove \"noisy\" parts using Morpholoy operations (Not mentioned in Theory but can be quite useful in practice. Read more on that here https://www.cs.auckland.ac.nz/courses/compsci773s1c/lectures/ImageProcessing-html/topic4.htm)\n"
   ]
  },
  {
   "cell_type": "code",
   "execution_count": null,
   "metadata": {},
   "outputs": [],
   "source": [
    "from skimage import morphology as mp\n",
    "from skimage import data, util\n",
    "from skimage.measure import label\n",
    "threshold=0.1 #note the effect of changing the threshold\n",
    "mask=mp.disk(2) # the structuring element size controls the filling/deletion scale\n",
    "\n",
    "i=0\n",
    "\n",
    "for frame in v[:]:\n",
    "    \n",
    "    s=\"Image %d\" % i\n",
    "    plt.title(s)\n",
    "\n",
    "    D_abs=# Complete here\n",
    "    \n",
    "    Dabs=mp.closing(Dabs,mask)\n",
    "    Dabs=skimage.morphology.remove_small_objects(Dabs,100)\n",
    "    plt.imshow(Dabs,cmap='gray')\n",
    "    plt.show()\n",
    "    i=i+1\n",
    "    \n",
    "      "
   ]
  },
  {
   "cell_type": "markdown",
   "metadata": {},
   "source": [
    "## 3- What if the static scene changes? reference frame not always applicable"
   ]
  },
  {
   "cell_type": "markdown",
   "metadata": {},
   "source": [
    "In this section we will adapt a dynamic background model\n",
    "\n",
    "Refer to the theory about the running average version 2 of the background model\n",
    "\n"
   ]
  },
  {
   "cell_type": "code",
   "execution_count": null,
   "metadata": {},
   "outputs": [],
   "source": [
    "alpha=\n",
    "Bt=img_as_float(color.rgb2gray(v[0]))\n",
    "It_prev=Bt;\n",
    "for frame in v[:]:\n",
    "    \n",
    "    "
   ]
  },
  {
   "cell_type": "markdown",
   "metadata": {},
   "source": [
    "## Use different values for alpha, <ins>comment the results</ins>"
   ]
  },
  {
   "cell_type": "code",
   "execution_count": null,
   "metadata": {},
   "outputs": [],
   "source": []
  }
 ],
 "metadata": {
  "kernelspec": {
   "display_name": "Python 3",
   "language": "python",
   "name": "python3"
  },
  "language_info": {
   "codemirror_mode": {
    "name": "ipython",
    "version": 3
   },
   "file_extension": ".py",
   "mimetype": "text/x-python",
   "name": "python",
   "nbconvert_exporter": "python",
   "pygments_lexer": "ipython3",
   "version": "3.7.6"
  }
 },
 "nbformat": 4,
 "nbformat_minor": 2
}
