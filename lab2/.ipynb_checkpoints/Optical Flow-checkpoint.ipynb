{
 "cells": [
  {
   "cell_type": "markdown",
   "metadata": {},
   "source": [
    "## *LastName FirstName*"
   ]
  },
  {
   "cell_type": "code",
   "execution_count": null,
   "metadata": {},
   "outputs": [],
   "source": [
    "import numpy as np\n",
    "import cv2 as cv2\n",
    "from scipy import signal\n",
    "import matplotlib.pyplot as plt\n",
    "from visualize_flow import flow_to_color\n"
   ]
  },
  {
   "cell_type": "markdown",
   "metadata": {},
   "source": [
    "## Let's implement a single-scale Lucas-Kanade optical flow algorithm"
   ]
  },
  {
   "cell_type": "markdown",
   "metadata": {},
   "source": [
    "Let's try the example of ping-pong,\n",
    "\n",
    "load two consequitive frames and visualize them:"
   ]
  },
  {
   "cell_type": "code",
   "execution_count": null,
   "metadata": {},
   "outputs": [],
   "source": [
    "%matplotlib inline\n",
    "img1= cv2.imread('Data/stennis/stennis_014.ppm',cv2.IMREAD_GRAYSCALE)\n",
    "img2= cv2.imread('Data/stennis/stennis_015.ppm',cv2.IMREAD_GRAYSCALE)\n",
    "plt.subplot(1,2,1)\n",
    "plt.imshow(cv2.cvtColor(img1, cv2.COLOR_BGR2RGB))\n",
    "plt.subplot(1,2,2)\n",
    "plt.imshow(cv2.cvtColor(img2, cv2.COLOR_BGR2RGB))"
   ]
  },
  {
   "cell_type": "code",
   "execution_count": null,
   "metadata": {},
   "outputs": [],
   "source": [
    "def Lucas_Kanade(im1,im2,window_size):\n",
    "    \n",
    "    kernel_x =\n",
    "    kernel_y = \n",
    "    kernel_t =\n",
    "   \n",
    "    w = int(window_size/2) # window_size is odd, all the pixels with offset in between [-w, w] are inside the window\n",
    "    I1g = im1 / 255. # normalize pixels\n",
    "    I2g = im2 / 255. # normalize pixels\n",
    "    # Implement Lucas Kanade\n",
    "    # for each point, calculate I_x, I_y, I_t\n",
    "    \n",
    "    \n",
    "    fx = \n",
    "    fy = \n",
    "    ft = \n",
    "    \n",
    "    u = np.zeros(I1g.shape)\n",
    "    v = np.zeros(I1g.shape)\n",
    "    # within window window_size * window_size\n",
    "    \n",
    "    for i in range(w, I1g.shape[0]-w):\n",
    "        for j in range(w, I1g.shape[1]-w):\n",
    "            #complete here\n",
    "            #define and solve the linear system\n",
    "            #remember the note about the ill-posed inversion in theory, look up pinv from numpy\n",
    "    return (u,v)"
   ]
  },
  {
   "cell_type": "markdown",
   "metadata": {},
   "source": [
    "Call the previously defined method"
   ]
  },
  {
   "cell_type": "code",
   "execution_count": null,
   "metadata": {
    "scrolled": true
   },
   "outputs": [],
   "source": [
    "start = time.time()\n",
    "window_size = 9#adjust, select only odd values\n",
    "[u,v] = Lucas_Kanade(img1,img2,window_size)\n",
    "print(\"Elapsed time is\",time.time()-start)"
   ]
  },
  {
   "cell_type": "markdown",
   "metadata": {},
   "source": [
    "Let's visualize the results of the flow field"
   ]
  },
  {
   "cell_type": "code",
   "execution_count": null,
   "metadata": {},
   "outputs": [],
   "source": [
    "\n",
    "plt.imshow(cv2.cvtColor(img2, cv2.COLOR_BGR2RGB)) #try plotting the motion vectors with and without the image in the background\n",
    "print(u.shape)\n",
    "print(v.shape)\n",
    "xaxis = list(np.arange(img1.shape[0]))\n",
    "yaxis = list(np.arange(img1.shape[1]))\n",
    "plt.xlim(0, 352)\n",
    "plt.ylim(240,0)\n",
    "plt.quiver(u,v)"
   ]
  },
  {
   "cell_type": "markdown",
   "metadata": {},
   "source": [
    "Let's visualize the flow field using a color-coding algorithm ( See https://github.com/tomrunia/OpticalFlow_Visualization)"
   ]
  },
  {
   "cell_type": "code",
   "execution_count": null,
   "metadata": {},
   "outputs": [],
   "source": [
    "flow = np.stack([u,v],axis=2)\n",
    "flow_rgb = flow_to_color(flow,convert_to_bgr=False)\n",
    "plt.imshow(flow_rgb)"
   ]
  },
  {
   "cell_type": "markdown",
   "metadata": {},
   "source": [
    "## Now let's take a look at the implementation provided in OpenCV of a pyramid Lucas-Kanade Sparse optical flow"
   ]
  },
  {
   "cell_type": "markdown",
   "metadata": {},
   "source": [
    "The algorithm evaluates optical flow on sparse points (corners) in order to avoid the ill-posed inversion of A'A.\n",
    "Additionally, Optical flow is calculated and combined on different scales to handle large-displacement"
   ]
  },
  {
   "cell_type": "code",
   "execution_count": null,
   "metadata": {},
   "outputs": [],
   "source": [
    "#parameters of the corner detection procedure\n",
    "feature_params = dict( maxCorners = 100,\n",
    "                       qualityLevel = 0.1,\n",
    "                       minDistance = 7,\n",
    "                       blockSize = 7 )\n",
    "\n",
    "# Parameters for lucas kanade optical flow\n",
    "#window size is the first one\n",
    "lk_params = dict( winSize  = (15,15),\n",
    "                  maxLevel = 2,\n",
    "                  criteria = (cv2.TERM_CRITERIA_EPS | cv2.TERM_CRITERIA_COUNT, 10, 0.03))\n"
   ]
  },
  {
   "cell_type": "markdown",
   "metadata": {},
   "source": [
    "1- Call the function that detects the key-points (Shi-Tomasi corners) from the first frame \n",
    "2- Call LK Flow algorithm which returns the positions of these key points in the second frame"
   ]
  },
  {
   "cell_type": "code",
   "execution_count": null,
   "metadata": {},
   "outputs": [],
   "source": [
    "p0 = cv2.goodFeaturesToTrack(img1, mask = None, **feature_params)\n",
    "p1, st, err = cv2.calcOpticalFlowPyrLK(img1, img2, p0, None, **lk_params)"
   ]
  },
  {
   "cell_type": "markdown",
   "metadata": {},
   "source": [
    "Draw vectors to connect points from the first frame and the second frame to visualize the motion vectors"
   ]
  },
  {
   "cell_type": "code",
   "execution_count": null,
   "metadata": {},
   "outputs": [],
   "source": [
    "good_new = p1[st==1]\n",
    "good_old = p0[st==1]\n",
    "mask = np.zeros_like(img1)\n",
    "print(good_old.shape)\n",
    "for i,(new,old) in enumerate(zip(p1,p0)):\n",
    "    a,b = new.ravel()\n",
    "    \n",
    "    c,d = old.ravel()\n",
    "    mask = cv2.line(mask, (a,b),(c,d), [255,255,0], 2)\n",
    "img2 = cv2.add(img2,mask)\n",
    "plt.imshow(cv2.cvtColor(img2, cv2.COLOR_BGR2RGB))\n"
   ]
  },
  {
   "cell_type": "markdown",
   "metadata": {},
   "source": [
    "### Try different window size for each of the two methods, try different frames (introduce some gap between them)  What do you observe ? how do the two methods compare in these situations?"
   ]
  },
  {
   "cell_type": "markdown",
   "metadata": {},
   "source": []
  }
 ],
 "metadata": {
  "kernelspec": {
   "display_name": "Python 3",
   "language": "python",
   "name": "python3"
  },
  "language_info": {
   "codemirror_mode": {
    "name": "ipython",
    "version": 3
   },
   "file_extension": ".py",
   "mimetype": "text/x-python",
   "name": "python",
   "nbconvert_exporter": "python",
   "pygments_lexer": "ipython3",
   "version": "3.7.6"
  }
 },
 "nbformat": 4,
 "nbformat_minor": 2
}
